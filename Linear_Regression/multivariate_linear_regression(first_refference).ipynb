{
 "cells": [
  {
   "cell_type": "code",
   "execution_count": null,
   "metadata": {},
   "outputs": [],
   "source": []
  },
  {
   "cell_type": "code",
   "execution_count": null,
   "metadata": {},
   "outputs": [],
   "source": []
  },
  {
   "cell_type": "code",
   "execution_count": 50,
   "metadata": {},
   "outputs": [
    {
     "name": "stdout",
     "output_type": "stream",
     "text": [
      "rmse : 1.020317455704553\n",
      "\n",
      "theta :\n",
      " [[0.05503072]\n",
      " [0.88353867]\n",
      " [0.06044537]]\n"
     ]
    },
    {
     "data": {
      "image/png": "[encoded data removed]",
      "text/plain": [
       "<Figure size 432x288 with 1 Axes>"
      ]
     },
     "metadata": {
      "needs_background": "light"
     },
     "output_type": "display_data"
    }
   ],
   "source": [
    "from sklearn.preprocessing import minmax_scale\n",
    "import numpy as np\n",
    "import matplotlib.pyplot as plt\n",
    "my_data=np.loadtxt(\"C:/Users/Raghav Rastogi/Desktop/ml/machine-learning-ex1/ex1/ex1data2.txt\", \\\n",
    "                delimiter=',')\n",
    "mscaled=minmax_scale(my_data,feature_range=(0,10))\n",
    "x1=mscaled[:,:-1]\n",
    "y1=mscaled[:,-1]\n",
    "N=len(x1)\n",
    "\n",
    "x1=np.concatenate((np.ones((x1.shape[0],1)),x1),axis=1)\n",
    "no_of_var=x1.shape[1]\n",
    "theta=np.zeros((no_of_var,1))\n",
    "iteration=1000\n",
    "lrate=0.001\n",
    "mcost=np.zeros(iteration)\n",
    "for i in range(iteration):\n",
    "    pred=np.matmul(x1,theta)#we cannot substract (47,1) and (47,) array result would be (47,47)\n",
    "    pred=pred[:,0]\n",
    "    #print(pred.shape)\n",
    "    mcost[i]=(1/N)*sum((y1-pred)**2)\n",
    "    #cost=(1/(2*m))*sum((ypred1-y)**2)\n",
    "    for p in range(theta.shape[0]):\n",
    "        theta[p]=theta[p]-(lrate/N)*sum(np.multiply((pred-y1),x1[:,p]))\n",
    "        #it gives right results when we do pred-y1 and wrong when we do y1-pred\n",
    "rmse=(sum((y1-pred)**2)/N)**.05\n",
    "print(\"rmse :\",rmse)\n",
    "print(\"\\ntheta :\\n\",theta)\n",
    "plt.plot(np.arange(iteration),mcost,label='cost')\n",
    "plt.legend(loc=1)\n",
    "plt.show()"
   ]
  },
  {
   "cell_type": "code",
   "execution_count": null,
   "metadata": {},
   "outputs": [],
   "source": []
  },
  {
   "cell_type": "code",
   "execution_count": null,
   "metadata": {},
   "outputs": [],
   "source": []
  },
  {
   "cell_type": "code",
   "execution_count": null,
   "metadata": {},
   "outputs": [],
   "source": []
  },
  {
   "cell_type": "code",
   "execution_count": null,
   "metadata": {},
   "outputs": [],
   "source": []
  },
  {
   "cell_type": "code",
   "execution_count": null,
   "metadata": {},
   "outputs": [],
   "source": []
  },
  {
   "cell_type": "code",
   "execution_count": null,
   "metadata": {},
   "outputs": [],
   "source": []
  }
 ],
 "metadata": {
  "kernelspec": {
   "display_name": "Python 3",
   "language": "python",
   "name": "python3"
  },
  "language_info": {
   "codemirror_mode": {
    "name": "ipython",
    "version": 3
   },
   "file_extension": ".py",
   "mimetype": "text/x-python",
   "name": "python",
   "nbconvert_exporter": "python",
   "pygments_lexer": "ipython3",
   "version": "3.7.2"
  }
 },
 "nbformat": 4,
 "nbformat_minor": 2
}
