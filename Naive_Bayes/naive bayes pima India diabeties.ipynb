{
 "cells": [
  {
   "cell_type": "code",
   "execution_count": 6,
   "metadata": {},
   "outputs": [
    {
     "data": {
      "text/html": [
       "<div>\n",
       "<style scoped>\n",
       "    .dataframe tbody tr th:only-of-type {\n",
       "        vertical-align: middle;\n",
       "    }\n",
       "\n",
       "    .dataframe tbody tr th {\n",
       "        vertical-align: top;\n",
       "    }\n",
       "\n",
       "    .dataframe thead th {\n",
       "        text-align: right;\n",
       "    }\n",
       "</style>\n",
       "<table border=\"1\" class=\"dataframe\">\n",
       "  <thead>\n",
       "    <tr style=\"text-align: right;\">\n",
       "      <th></th>\n",
       "      <th>Pregnancies</th>\n",
       "      <th>Glucose</th>\n",
       "      <th>BloodPressure</th>\n",
       "      <th>SkinThickness</th>\n",
       "      <th>Insulin</th>\n",
       "      <th>BMI</th>\n",
       "      <th>DiabetesPedigreeFunction</th>\n",
       "      <th>Age</th>\n",
       "      <th>Outcome</th>\n",
       "    </tr>\n",
       "  </thead>\n",
       "  <tbody>\n",
       "    <tr>\n",
       "      <th>0</th>\n",
       "      <td>6</td>\n",
       "      <td>148</td>\n",
       "      <td>72</td>\n",
       "      <td>35</td>\n",
       "      <td>0</td>\n",
       "      <td>33.6</td>\n",
       "      <td>0.627</td>\n",
       "      <td>50</td>\n",
       "      <td>1</td>\n",
       "    </tr>\n",
       "    <tr>\n",
       "      <th>1</th>\n",
       "      <td>1</td>\n",
       "      <td>85</td>\n",
       "      <td>66</td>\n",
       "      <td>29</td>\n",
       "      <td>0</td>\n",
       "      <td>26.6</td>\n",
       "      <td>0.351</td>\n",
       "      <td>31</td>\n",
       "      <td>0</td>\n",
       "    </tr>\n",
       "    <tr>\n",
       "      <th>2</th>\n",
       "      <td>8</td>\n",
       "      <td>183</td>\n",
       "      <td>64</td>\n",
       "      <td>0</td>\n",
       "      <td>0</td>\n",
       "      <td>23.3</td>\n",
       "      <td>0.672</td>\n",
       "      <td>32</td>\n",
       "      <td>1</td>\n",
       "    </tr>\n",
       "    <tr>\n",
       "      <th>3</th>\n",
       "      <td>1</td>\n",
       "      <td>89</td>\n",
       "      <td>66</td>\n",
       "      <td>23</td>\n",
       "      <td>94</td>\n",
       "      <td>28.1</td>\n",
       "      <td>0.167</td>\n",
       "      <td>21</td>\n",
       "      <td>0</td>\n",
       "    </tr>\n",
       "    <tr>\n",
       "      <th>4</th>\n",
       "      <td>0</td>\n",
       "      <td>137</td>\n",
       "      <td>40</td>\n",
       "      <td>35</td>\n",
       "      <td>168</td>\n",
       "      <td>43.1</td>\n",
       "      <td>2.288</td>\n",
       "      <td>33</td>\n",
       "      <td>1</td>\n",
       "    </tr>\n",
       "  </tbody>\n",
       "</table>\n",
       "</div>"
      ],
      "text/plain": [
       "   Pregnancies  Glucose  BloodPressure  SkinThickness  Insulin   BMI  \\\n",
       "0            6      148             72             35        0  33.6   \n",
       "1            1       85             66             29        0  26.6   \n",
       "2            8      183             64              0        0  23.3   \n",
       "3            1       89             66             23       94  28.1   \n",
       "4            0      137             40             35      168  43.1   \n",
       "\n",
       "   DiabetesPedigreeFunction  Age  Outcome  \n",
       "0                     0.627   50        1  \n",
       "1                     0.351   31        0  \n",
       "2                     0.672   32        1  \n",
       "3                     0.167   21        0  \n",
       "4                     2.288   33        1  "
      ]
     },
     "execution_count": 6,
     "metadata": {},
     "output_type": "execute_result"
    }
   ],
   "source": [
    "import pandas as pd\n",
    "import numpy as np\n",
    "\n",
    "data=pd.read_csv(\"C:/Users/Raghav Rastogi/Desktop/ml/Datasets/diabetes.csv\")\n",
    "data.head()"
   ]
  },
  {
   "cell_type": "code",
   "execution_count": null,
   "metadata": {},
   "outputs": [],
   "source": [
    "'''\n",
    "#if the dataset would just be a csv file without the column names then :\n",
    "cols=['Pregnancies', 'Glucose', 'BloodPressure', 'SkinThickness', 'Insulin','BMI',\\\n",
    "      'DiabetesPedigreeFunction', 'Age', 'Outcome']\n",
    "data=pd.read_csv('C:/Users/Raghav Rastogi/Desktop/ml/Datasets/diabetes.csv',names=cols)\n",
    "'''"
   ]
  },
  {
   "cell_type": "code",
   "execution_count": 27,
   "metadata": {},
   "outputs": [
    {
     "data": {
      "text/html": [
       "<div>\n",
       "<style scoped>\n",
       "    .dataframe tbody tr th:only-of-type {\n",
       "        vertical-align: middle;\n",
       "    }\n",
       "\n",
       "    .dataframe tbody tr th {\n",
       "        vertical-align: top;\n",
       "    }\n",
       "\n",
       "    .dataframe thead th {\n",
       "        text-align: right;\n",
       "    }\n",
       "</style>\n",
       "<table border=\"1\" class=\"dataframe\">\n",
       "  <thead>\n",
       "    <tr style=\"text-align: right;\">\n",
       "      <th></th>\n",
       "      <th>Pregnancies</th>\n",
       "      <th>Glucose</th>\n",
       "      <th>BloodPressure</th>\n",
       "      <th>SkinThickness</th>\n",
       "      <th>Insulin</th>\n",
       "      <th>BMI</th>\n",
       "      <th>DiabetesPedigreeFunction</th>\n",
       "      <th>Age</th>\n",
       "    </tr>\n",
       "    <tr>\n",
       "      <th>Outcome</th>\n",
       "      <th></th>\n",
       "      <th></th>\n",
       "      <th></th>\n",
       "      <th></th>\n",
       "      <th></th>\n",
       "      <th></th>\n",
       "      <th></th>\n",
       "      <th></th>\n",
       "    </tr>\n",
       "  </thead>\n",
       "  <tbody>\n",
       "    <tr>\n",
       "      <th>0</th>\n",
       "      <td>3.298000</td>\n",
       "      <td>109.980000</td>\n",
       "      <td>68.184000</td>\n",
       "      <td>19.664000</td>\n",
       "      <td>68.792000</td>\n",
       "      <td>30.304200</td>\n",
       "      <td>0.429734</td>\n",
       "      <td>31.190000</td>\n",
       "    </tr>\n",
       "    <tr>\n",
       "      <th>1</th>\n",
       "      <td>4.865672</td>\n",
       "      <td>141.257463</td>\n",
       "      <td>70.824627</td>\n",
       "      <td>22.164179</td>\n",
       "      <td>100.335821</td>\n",
       "      <td>35.142537</td>\n",
       "      <td>0.550500</td>\n",
       "      <td>37.067164</td>\n",
       "    </tr>\n",
       "  </tbody>\n",
       "</table>\n",
       "</div>"
      ],
      "text/plain": [
       "         Pregnancies     Glucose  BloodPressure  SkinThickness     Insulin  \\\n",
       "Outcome                                                                      \n",
       "0           3.298000  109.980000      68.184000      19.664000   68.792000   \n",
       "1           4.865672  141.257463      70.824627      22.164179  100.335821   \n",
       "\n",
       "               BMI  DiabetesPedigreeFunction        Age  \n",
       "Outcome                                                  \n",
       "0        30.304200                  0.429734  31.190000  \n",
       "1        35.142537                  0.550500  37.067164  "
      ]
     },
     "execution_count": 27,
     "metadata": {},
     "output_type": "execute_result"
    }
   ],
   "source": [
    "data_mean=data.groupby('Outcome').mean()\n",
    "data_mean"
   ]
  },
  {
   "cell_type": "code",
   "execution_count": 28,
   "metadata": {},
   "outputs": [
    {
     "data": {
      "text/html": [
       "<div>\n",
       "<style scoped>\n",
       "    .dataframe tbody tr th:only-of-type {\n",
       "        vertical-align: middle;\n",
       "    }\n",
       "\n",
       "    .dataframe tbody tr th {\n",
       "        vertical-align: top;\n",
       "    }\n",
       "\n",
       "    .dataframe thead th {\n",
       "        text-align: right;\n",
       "    }\n",
       "</style>\n",
       "<table border=\"1\" class=\"dataframe\">\n",
       "  <thead>\n",
       "    <tr style=\"text-align: right;\">\n",
       "      <th></th>\n",
       "      <th>Pregnancies</th>\n",
       "      <th>Glucose</th>\n",
       "      <th>BloodPressure</th>\n",
       "      <th>SkinThickness</th>\n",
       "      <th>Insulin</th>\n",
       "      <th>BMI</th>\n",
       "      <th>DiabetesPedigreeFunction</th>\n",
       "      <th>Age</th>\n",
       "    </tr>\n",
       "    <tr>\n",
       "      <th>Outcome</th>\n",
       "      <th></th>\n",
       "      <th></th>\n",
       "      <th></th>\n",
       "      <th></th>\n",
       "      <th></th>\n",
       "      <th></th>\n",
       "      <th></th>\n",
       "      <th></th>\n",
       "    </tr>\n",
       "  </thead>\n",
       "  <tbody>\n",
       "    <tr>\n",
       "      <th>0</th>\n",
       "      <td>9.103403</td>\n",
       "      <td>683.362325</td>\n",
       "      <td>326.274693</td>\n",
       "      <td>221.710525</td>\n",
       "      <td>9774.345427</td>\n",
       "      <td>59.133870</td>\n",
       "      <td>0.089452</td>\n",
       "      <td>136.134168</td>\n",
       "    </tr>\n",
       "    <tr>\n",
       "      <th>1</th>\n",
       "      <td>13.996870</td>\n",
       "      <td>1020.139457</td>\n",
       "      <td>461.897968</td>\n",
       "      <td>312.572195</td>\n",
       "      <td>19234.673319</td>\n",
       "      <td>52.750693</td>\n",
       "      <td>0.138648</td>\n",
       "      <td>120.302588</td>\n",
       "    </tr>\n",
       "  </tbody>\n",
       "</table>\n",
       "</div>"
      ],
      "text/plain": [
       "         Pregnancies      Glucose  BloodPressure  SkinThickness       Insulin  \\\n",
       "Outcome                                                                         \n",
       "0           9.103403   683.362325     326.274693     221.710525   9774.345427   \n",
       "1          13.996870  1020.139457     461.897968     312.572195  19234.673319   \n",
       "\n",
       "               BMI  DiabetesPedigreeFunction         Age  \n",
       "Outcome                                                   \n",
       "0        59.133870                  0.089452  136.134168  \n",
       "1        52.750693                  0.138648  120.302588  "
      ]
     },
     "execution_count": 28,
     "metadata": {},
     "output_type": "execute_result"
    }
   ],
   "source": [
    "data_var=data.groupby('Outcome').var()\n",
    "data_var"
   ]
  },
  {
   "cell_type": "code",
   "execution_count": 29,
   "metadata": {},
   "outputs": [],
   "source": [
    "n_diab=data['Outcome'][data['Outcome']==1].count()\n",
    "n_non_diab=data['Outcome'][data['Outcome']==0].count()\n",
    "total_ppl=data['Outcome'][data['Outcome']].count()\n",
    "\n",
    "p_diab=n_diab/total_ppl\n",
    "p_non_diab=n_non_diab/total_ppl"
   ]
  },
  {
   "cell_type": "code",
   "execution_count": 35,
   "metadata": {},
   "outputs": [],
   "source": [
    "diab_preg_mean=data_mean['Pregnancies'][data_mean.index==1].values[0]\n",
    "diab_glu_mean=data_mean['Glucose'][data_mean.index==1].values[0]\n",
    "diab_bp_mean=data_mean['BloodPressure'][data_mean.index==1].values[0]\n",
    "diab_sk_mean=data_mean['SkinThickness'][data_mean.index==1].values[0]\n",
    "diab_ins_mean=data_mean['Insulin'][data_mean.index==1].values[0]\n",
    "diab_bmi_mean=data_mean['BMI'][data_mean.index==1].values[0]\n",
    "diab_dpf_mean=data_mean['DiabetesPedigreeFunction'][data_mean.index==1].values[0]\n",
    "diab_age_mean=data_mean['Age'][data_mean.index==1].values[0]\n",
    "\n",
    "\n",
    "non_diab_preg_mean=data_mean['Pregnancies'][data_mean.index==0].values[0]\n",
    "non_diab_glu_mean=data_mean['Glucose'][data_mean.index==0].values[0]\n",
    "non_diab_bp_mean=data_mean['BloodPressure'][data_mean.index==0].values[0]\n",
    "non_diab_sk_mean=data_mean['SkinThickness'][data_mean.index==0].values[0]\n",
    "non_diab_ins_mean=data_mean['Insulin'][data_mean.index==0].values[0]\n",
    "non_diab_bmi_mean=data_mean['BMI'][data_mean.index==0].values[0]\n",
    "non_diab_dpf_mean=data_mean['DiabetesPedigreeFunction'][data_mean.index==0].values[0]\n",
    "non_diab_age_mean=data_mean['Age'][data_mean.index==0].values[0]\n",
    "\n",
    "\n",
    "\n",
    "diab_preg_var=data_var['Pregnancies'][data_var.index==1].values[0]\n",
    "diab_glu_var=data_var['Glucose'][data_var.index==1].values[0]\n",
    "diab_bp_var=data_var['BloodPressure'][data_var.index==1].values[0]\n",
    "diab_sk_var=data_var['SkinThickness'][data_var.index==1].values[0]\n",
    "diab_ins_var=data_var['Insulin'][data_var.index==1].values[0]\n",
    "diab_bmi_var=data_var['BMI'][data_var.index==1].values[0]\n",
    "diab_dpf_var=data_var['DiabetesPedigreeFunction'][data_var.index==1].values[0]\n",
    "diab_age_var=data_var['Age'][data_var.index==1].values[0]\n",
    "\n",
    "non_diab_preg_var=data_var['Pregnancies'][data_var.index==0].values[0]\n",
    "non_diab_glu_var=data_var['Glucose'][data_var.index==0].values[0]\n",
    "non_diab_bp_var=data_var['BloodPressure'][data_var.index==0].values[0]\n",
    "non_diab_sk_var=data_var['SkinThickness'][data_var.index==0].values[0]\n",
    "non_diab_ins_var=data_var['Insulin'][data_var.index==0].values[0]\n",
    "non_diab_bmi_var=data_var['BMI'][data_var.index==0].values[0]\n",
    "non_diab_dpf_var=data_var['DiabetesPedigreeFunction'][data_var.index==0].values[0]\n",
    "non_diab_age_var=data_var['Age'][data_var.index==0].values[0]\n",
    "\n",
    "\n"
   ]
  },
  {
   "cell_type": "code",
   "execution_count": 48,
   "metadata": {},
   "outputs": [],
   "source": [
    "def p_x_given_y(x,mean_y,var_y):\n",
    "    p=1/(np.sqrt(2*np.pi*var_y))*np.exp((-(x-mean_y)**2)/(2*var_y))\n",
    "    return p\n"
   ]
  },
  {
   "cell_type": "code",
   "execution_count": 49,
   "metadata": {},
   "outputs": [],
   "source": [
    "person=pd.DataFrame()\n",
    "person['Pregnancies']=[6]\n",
    "person['Glucose']=[148]\n",
    "person['BloodPressure']=[72]\n",
    "person['SkinThickness']=[35]\n",
    "person['Insulin']=[0]\n",
    "person['BMI']=[33.6]\n",
    "person['DiabetesPedigreeFunction']=[0.627]\n",
    "person['Age']=[50]"
   ]
  },
  {
   "cell_type": "code",
   "execution_count": 50,
   "metadata": {},
   "outputs": [
    {
     "data": {
      "text/plain": [
       "3.1582472589428585e-13"
      ]
     },
     "execution_count": 50,
     "metadata": {},
     "output_type": "execute_result"
    }
   ],
   "source": [
    "p_if_diab=p_diab* \\\n",
    "p_x_given_y(person['Pregnancies'][0],diab_preg_mean,diab_preg_var)* \\\n",
    "p_x_given_y(person['Glucose'][0],diab_glu_mean,diab_glu_var)* \\\n",
    "p_x_given_y(person['BloodPressure'][0],diab_bp_mean,diab_bp_var)* \\\n",
    "p_x_given_y(person['SkinThickness'][0],diab_sk_mean,diab_sk_var)* \\\n",
    "p_x_given_y(person['Insulin'][0],diab_ins_mean,diab_ins_var)* \\\n",
    "p_x_given_y(person['BMI'][0],diab_bmi_mean,diab_bmi_var)* \\\n",
    "p_x_given_y(person['DiabetesPedigreeFunction'][0],diab_dpf_mean,diab_dpf_var)* \\\n",
    "p_x_given_y(person['Age'][0],diab_age_mean,diab_age_var)\n",
    "\n",
    "p_if_diab"
   ]
  },
  {
   "cell_type": "code",
   "execution_count": 51,
   "metadata": {},
   "outputs": [
    {
     "data": {
      "text/plain": [
       "1.5601046357664645e-13"
      ]
     },
     "execution_count": 51,
     "metadata": {},
     "output_type": "execute_result"
    }
   ],
   "source": [
    "p_if_non_diab=p_non_diab* \\\n",
    "p_x_given_y(person['Pregnancies'][0],non_diab_preg_mean,non_diab_preg_var)* \\\n",
    "p_x_given_y(person['Glucose'][0],non_diab_glu_mean,non_diab_glu_var)* \\\n",
    "p_x_given_y(person['BloodPressure'][0],non_diab_bp_mean,non_diab_bp_var)* \\\n",
    "p_x_given_y(person['SkinThickness'][0],non_diab_sk_mean,non_diab_sk_var)* \\\n",
    "p_x_given_y(person['Insulin'][0],non_diab_ins_mean,non_diab_ins_var)* \\\n",
    "p_x_given_y(person['BMI'][0],non_diab_bmi_mean,non_diab_bmi_var)* \\\n",
    "p_x_given_y(person['DiabetesPedigreeFunction'][0],non_diab_dpf_mean,non_diab_dpf_var)* \\\n",
    "p_x_given_y(person['Age'][0],non_diab_age_mean,non_diab_age_var)\n",
    "\n",
    "p_if_non_diab"
   ]
  },
  {
   "cell_type": "code",
   "execution_count": null,
   "metadata": {},
   "outputs": [],
   "source": [
    "# p_if_diab>p_if_non_diab  therfore its diab"
   ]
  },
  {
   "cell_type": "markdown",
   "metadata": {},
   "source": [
    "# till here the model performed well for the single person test data now we will split the data and train it again and then perform the test on test data"
   ]
  },
  {
   "cell_type": "code",
   "execution_count": null,
   "metadata": {},
   "outputs": [],
   "source": []
  },
  {
   "cell_type": "code",
   "execution_count": null,
   "metadata": {},
   "outputs": [],
   "source": []
  },
  {
   "cell_type": "code",
   "execution_count": 164,
   "metadata": {},
   "outputs": [],
   "source": [
    "x=data.iloc[:,:-1]\n",
    "y=data.iloc[:,-1]"
   ]
  },
  {
   "cell_type": "code",
   "execution_count": 172,
   "metadata": {},
   "outputs": [
    {
     "data": {
      "image/png": "[encoded data removed]",
      "text/plain": [
       "<Figure size 432x288 with 1 Axes>"
      ]
     },
     "metadata": {
      "needs_background": "light"
     },
     "output_type": "display_data"
    }
   ],
   "source": [
    "from sklearn.model_selection import train_test_split\n",
    "xtrain,xtest,ytrain,ytest=train_test_split(x,y,test_size=0.2,random_state=9)\n",
    "ytest\n",
    "import matplotlib.pyplot as plt\n",
    "yes=y[y==1].count()\n",
    "no=y[y==0].count()\n",
    "val={'diabetic':yes,'non_diabetic':no}\n",
    "plt.bar(val.keys(),val.values())\n",
    "plt.title('distribution in test_data (ytest)')\n",
    "plt.show()"
   ]
  },
  {
   "cell_type": "code",
   "execution_count": 173,
   "metadata": {},
   "outputs": [
    {
     "name": "stderr",
     "output_type": "stream",
     "text": [
      "C:\\Users\\Raghav Rastogi\\Anaconda3\\lib\\site-packages\\ipykernel_launcher.py:1: SettingWithCopyWarning: \n",
      "A value is trying to be set on a copy of a slice from a DataFrame.\n",
      "Try using .loc[row_indexer,col_indexer] = value instead\n",
      "\n",
      "See the caveats in the documentation: http://pandas.pydata.org/pandas-docs/stable/indexing.html#indexing-view-versus-copy\n",
      "  \"\"\"Entry point for launching an IPython kernel.\n"
     ]
    },
    {
     "data": {
      "text/html": [
       "<div>\n",
       "<style scoped>\n",
       "    .dataframe tbody tr th:only-of-type {\n",
       "        vertical-align: middle;\n",
       "    }\n",
       "\n",
       "    .dataframe tbody tr th {\n",
       "        vertical-align: top;\n",
       "    }\n",
       "\n",
       "    .dataframe thead th {\n",
       "        text-align: right;\n",
       "    }\n",
       "</style>\n",
       "<table border=\"1\" class=\"dataframe\">\n",
       "  <thead>\n",
       "    <tr style=\"text-align: right;\">\n",
       "      <th></th>\n",
       "      <th>Pregnancies</th>\n",
       "      <th>Glucose</th>\n",
       "      <th>BloodPressure</th>\n",
       "      <th>SkinThickness</th>\n",
       "      <th>Insulin</th>\n",
       "      <th>BMI</th>\n",
       "      <th>DiabetesPedigreeFunction</th>\n",
       "      <th>Age</th>\n",
       "    </tr>\n",
       "    <tr>\n",
       "      <th>Outcome</th>\n",
       "      <th></th>\n",
       "      <th></th>\n",
       "      <th></th>\n",
       "      <th></th>\n",
       "      <th></th>\n",
       "      <th></th>\n",
       "      <th></th>\n",
       "      <th></th>\n",
       "    </tr>\n",
       "  </thead>\n",
       "  <tbody>\n",
       "    <tr>\n",
       "      <th>0</th>\n",
       "      <td>3.362500</td>\n",
       "      <td>110.172500</td>\n",
       "      <td>68.285000</td>\n",
       "      <td>19.895000</td>\n",
       "      <td>70.87250</td>\n",
       "      <td>30.287750</td>\n",
       "      <td>0.431830</td>\n",
       "      <td>31.177500</td>\n",
       "    </tr>\n",
       "    <tr>\n",
       "      <th>1</th>\n",
       "      <td>4.906542</td>\n",
       "      <td>141.724299</td>\n",
       "      <td>70.635514</td>\n",
       "      <td>22.060748</td>\n",
       "      <td>99.28972</td>\n",
       "      <td>35.114953</td>\n",
       "      <td>0.559313</td>\n",
       "      <td>37.331776</td>\n",
       "    </tr>\n",
       "  </tbody>\n",
       "</table>\n",
       "</div>"
      ],
      "text/plain": [
       "         Pregnancies     Glucose  BloodPressure  SkinThickness   Insulin  \\\n",
       "Outcome                                                                    \n",
       "0           3.362500  110.172500      68.285000      19.895000  70.87250   \n",
       "1           4.906542  141.724299      70.635514      22.060748  99.28972   \n",
       "\n",
       "               BMI  DiabetesPedigreeFunction        Age  \n",
       "Outcome                                                  \n",
       "0        30.287750                  0.431830  31.177500  \n",
       "1        35.114953                  0.559313  37.331776  "
      ]
     },
     "execution_count": 173,
     "metadata": {},
     "output_type": "execute_result"
    }
   ],
   "source": [
    "xtrain['Outcome']=ytrain\n",
    "xtrain_mean=xtrain.groupby('Outcome').mean()\n",
    "xtrain_mean\n"
   ]
  },
  {
   "cell_type": "code",
   "execution_count": 174,
   "metadata": {},
   "outputs": [
    {
     "data": {
      "text/html": [
       "<div>\n",
       "<style scoped>\n",
       "    .dataframe tbody tr th:only-of-type {\n",
       "        vertical-align: middle;\n",
       "    }\n",
       "\n",
       "    .dataframe tbody tr th {\n",
       "        vertical-align: top;\n",
       "    }\n",
       "\n",
       "    .dataframe thead th {\n",
       "        text-align: right;\n",
       "    }\n",
       "</style>\n",
       "<table border=\"1\" class=\"dataframe\">\n",
       "  <thead>\n",
       "    <tr style=\"text-align: right;\">\n",
       "      <th></th>\n",
       "      <th>Pregnancies</th>\n",
       "      <th>Glucose</th>\n",
       "      <th>BloodPressure</th>\n",
       "      <th>SkinThickness</th>\n",
       "      <th>Insulin</th>\n",
       "      <th>BMI</th>\n",
       "      <th>DiabetesPedigreeFunction</th>\n",
       "      <th>Age</th>\n",
       "    </tr>\n",
       "    <tr>\n",
       "      <th>Outcome</th>\n",
       "      <th></th>\n",
       "      <th></th>\n",
       "      <th></th>\n",
       "      <th></th>\n",
       "      <th></th>\n",
       "      <th></th>\n",
       "      <th></th>\n",
       "      <th></th>\n",
       "    </tr>\n",
       "  </thead>\n",
       "  <tbody>\n",
       "    <tr>\n",
       "      <th>0</th>\n",
       "      <td>9.870771</td>\n",
       "      <td>637.862400</td>\n",
       "      <td>320.520075</td>\n",
       "      <td>214.144336</td>\n",
       "      <td>9837.279442</td>\n",
       "      <td>59.012306</td>\n",
       "      <td>0.087818</td>\n",
       "      <td>140.216535</td>\n",
       "    </tr>\n",
       "    <tr>\n",
       "      <th>1</th>\n",
       "      <td>13.502962</td>\n",
       "      <td>1013.083257</td>\n",
       "      <td>492.890000</td>\n",
       "      <td>316.461081</td>\n",
       "      <td>19419.709096</td>\n",
       "      <td>59.421090</td>\n",
       "      <td>0.134715</td>\n",
       "      <td>119.753258</td>\n",
       "    </tr>\n",
       "  </tbody>\n",
       "</table>\n",
       "</div>"
      ],
      "text/plain": [
       "         Pregnancies      Glucose  BloodPressure  SkinThickness       Insulin  \\\n",
       "Outcome                                                                         \n",
       "0           9.870771   637.862400     320.520075     214.144336   9837.279442   \n",
       "1          13.502962  1013.083257     492.890000     316.461081  19419.709096   \n",
       "\n",
       "               BMI  DiabetesPedigreeFunction         Age  \n",
       "Outcome                                                   \n",
       "0        59.012306                  0.087818  140.216535  \n",
       "1        59.421090                  0.134715  119.753258  "
      ]
     },
     "execution_count": 174,
     "metadata": {},
     "output_type": "execute_result"
    }
   ],
   "source": [
    "xtrain_var=xtrain.groupby('Outcome').var()\n",
    "xtrain_var"
   ]
  },
  {
   "cell_type": "code",
   "execution_count": 175,
   "metadata": {},
   "outputs": [],
   "source": [
    "\n",
    "n_dia=xtrain['Outcome'][xtrain['Outcome']==1].count()\n",
    "n_non_dia=xtrain['Outcome'][xtrain['Outcome']==0].count()\n",
    "total=xtrain['Outcome'][xtrain['Outcome']].count()\n",
    "\n",
    "p_dia=n_dia/total\n",
    "p_non_dia=n_non_dia/total\n"
   ]
  },
  {
   "cell_type": "code",
   "execution_count": 176,
   "metadata": {},
   "outputs": [],
   "source": [
    "def p_x_given_y(x,mean_y,var_y):\n",
    "    p=1/(np.sqrt(2*np.pi*var_y))*np.exp((-(x-mean_y)**2)/(2*var_y))\n",
    "    return p"
   ]
  },
  {
   "cell_type": "markdown",
   "metadata": {},
   "source": [
    "### here we have taken all the values directly from the dataframes instead of storing them into variables , it reduces the readeability but greateky reduces the code length"
   ]
  },
  {
   "cell_type": "code",
   "execution_count": 177,
   "metadata": {},
   "outputs": [],
   "source": [
    "m=len(xtest)\n",
    "res_dia=np.zeros(m)\n",
    "res_non_dia=np.zeros(m)\n",
    "for i in range(m):\n",
    "    #p_x_given_y(xtest.iloc[i]['Pregnancies'],)\n",
    "    temp_res1=1\n",
    "    temp_res2=1\n",
    "    for j in range(xtrain.shape[1]-1):\n",
    "        temp_res1=temp_res1*p_x_given_y(xtest.iloc[i][j],xtrain_mean.iloc[1][j],xtrain_var.iloc[1][j])\n",
    "        \n",
    "        temp_res2=temp_res2*p_x_given_y(xtest.iloc[i][j],xtrain_mean.iloc[0][j],xtrain_var.iloc[0][j])\n",
    "    res_dia[i]=p_dia*temp_res1\n",
    "    res_non_dia[i]=p_non_dia*temp_res2\n",
    "    \n",
    "\n"
   ]
  },
  {
   "cell_type": "code",
   "execution_count": 178,
   "metadata": {},
   "outputs": [
    {
     "data": {
      "text/html": [
       "<div>\n",
       "<style scoped>\n",
       "    .dataframe tbody tr th:only-of-type {\n",
       "        vertical-align: middle;\n",
       "    }\n",
       "\n",
       "    .dataframe tbody tr th {\n",
       "        vertical-align: top;\n",
       "    }\n",
       "\n",
       "    .dataframe thead th {\n",
       "        text-align: right;\n",
       "    }\n",
       "</style>\n",
       "<table border=\"1\" class=\"dataframe\">\n",
       "  <thead>\n",
       "    <tr style=\"text-align: right;\">\n",
       "      <th></th>\n",
       "      <th>actual</th>\n",
       "      <th>predicted</th>\n",
       "    </tr>\n",
       "  </thead>\n",
       "  <tbody>\n",
       "    <tr>\n",
       "      <th>456</th>\n",
       "      <td>0</td>\n",
       "      <td>0.0</td>\n",
       "    </tr>\n",
       "    <tr>\n",
       "      <th>260</th>\n",
       "      <td>0</td>\n",
       "      <td>1.0</td>\n",
       "    </tr>\n",
       "    <tr>\n",
       "      <th>651</th>\n",
       "      <td>0</td>\n",
       "      <td>0.0</td>\n",
       "    </tr>\n",
       "    <tr>\n",
       "      <th>143</th>\n",
       "      <td>1</td>\n",
       "      <td>0.0</td>\n",
       "    </tr>\n",
       "    <tr>\n",
       "      <th>666</th>\n",
       "      <td>1</td>\n",
       "      <td>0.0</td>\n",
       "    </tr>\n",
       "    <tr>\n",
       "      <th>390</th>\n",
       "      <td>0</td>\n",
       "      <td>0.0</td>\n",
       "    </tr>\n",
       "    <tr>\n",
       "      <th>591</th>\n",
       "      <td>0</td>\n",
       "      <td>0.0</td>\n",
       "    </tr>\n",
       "    <tr>\n",
       "      <th>77</th>\n",
       "      <td>0</td>\n",
       "      <td>0.0</td>\n",
       "    </tr>\n",
       "    <tr>\n",
       "      <th>414</th>\n",
       "      <td>1</td>\n",
       "      <td>0.0</td>\n",
       "    </tr>\n",
       "    <tr>\n",
       "      <th>494</th>\n",
       "      <td>0</td>\n",
       "      <td>0.0</td>\n",
       "    </tr>\n",
       "    <tr>\n",
       "      <th>174</th>\n",
       "      <td>0</td>\n",
       "      <td>0.0</td>\n",
       "    </tr>\n",
       "    <tr>\n",
       "      <th>474</th>\n",
       "      <td>0</td>\n",
       "      <td>0.0</td>\n",
       "    </tr>\n",
       "    <tr>\n",
       "      <th>556</th>\n",
       "      <td>0</td>\n",
       "      <td>0.0</td>\n",
       "    </tr>\n",
       "    <tr>\n",
       "      <th>397</th>\n",
       "      <td>1</td>\n",
       "      <td>0.0</td>\n",
       "    </tr>\n",
       "    <tr>\n",
       "      <th>446</th>\n",
       "      <td>0</td>\n",
       "      <td>0.0</td>\n",
       "    </tr>\n",
       "    <tr>\n",
       "      <th>341</th>\n",
       "      <td>0</td>\n",
       "      <td>0.0</td>\n",
       "    </tr>\n",
       "    <tr>\n",
       "      <th>39</th>\n",
       "      <td>1</td>\n",
       "      <td>1.0</td>\n",
       "    </tr>\n",
       "    <tr>\n",
       "      <th>588</th>\n",
       "      <td>1</td>\n",
       "      <td>1.0</td>\n",
       "    </tr>\n",
       "    <tr>\n",
       "      <th>383</th>\n",
       "      <td>0</td>\n",
       "      <td>0.0</td>\n",
       "    </tr>\n",
       "    <tr>\n",
       "      <th>90</th>\n",
       "      <td>0</td>\n",
       "      <td>0.0</td>\n",
       "    </tr>\n",
       "  </tbody>\n",
       "</table>\n",
       "</div>"
      ],
      "text/plain": [
       "     actual  predicted\n",
       "456       0        0.0\n",
       "260       0        1.0\n",
       "651       0        0.0\n",
       "143       1        0.0\n",
       "666       1        0.0\n",
       "390       0        0.0\n",
       "591       0        0.0\n",
       "77        0        0.0\n",
       "414       1        0.0\n",
       "494       0        0.0\n",
       "174       0        0.0\n",
       "474       0        0.0\n",
       "556       0        0.0\n",
       "397       1        0.0\n",
       "446       0        0.0\n",
       "341       0        0.0\n",
       "39        1        1.0\n",
       "588       1        1.0\n",
       "383       0        0.0\n",
       "90        0        0.0"
      ]
     },
     "execution_count": 178,
     "metadata": {},
     "output_type": "execute_result"
    }
   ],
   "source": [
    "my_result=np.zeros(m)\n",
    "for i in range(m):\n",
    "    if res_dia[i]>res_non_dia[i]:\n",
    "        my_result[i]=1\n",
    "    else:\n",
    "        my_result[i]=0\n",
    "\n",
    "new_df=pd.DataFrame({'actual':ytest,'predicted':my_result})\n",
    "new_df.head(20)"
   ]
  },
  {
   "cell_type": "code",
   "execution_count": 179,
   "metadata": {},
   "outputs": [
    {
     "name": "stdout",
     "output_type": "stream",
     "text": [
      "ACCURACY : 75.97402597402598 %\n"
     ]
    },
    {
     "name": "stderr",
     "output_type": "stream",
     "text": [
      "C:\\Users\\Raghav Rastogi\\Anaconda3\\lib\\site-packages\\ipykernel_launcher.py:1: FutureWarning: Method .as_matrix will be removed in a future version. Use .values instead.\n",
      "  \"\"\"Entry point for launching an IPython kernel.\n"
     ]
    }
   ],
   "source": [
    "new_ytest=ytest.as_matrix()\n",
    "accuracy=np.mean(new_ytest.flatten()==my_result.flatten())\n",
    "print(\"ACCURACY :\",accuracy*100,\"%\")\n"
   ]
  },
  {
   "cell_type": "markdown",
   "metadata": {},
   "source": [
    "* you can also declare each variable like below for diabetic and non diabetic mean and variance for each columns and then use them in formula "
   ]
  },
  {
   "cell_type": "code",
   "execution_count": null,
   "metadata": {},
   "outputs": [],
   "source": [
    "dia_preg_mean=xtrain_mean['Pregnancies'][xtrain_mean.index==1].values[0]\n",
    "dia_glu_mean=xtrain_mean['Glucose'][xtrain_mean.index==1].values[0]\n",
    "dia_bp_mean=xtrain_mean['BloodPressure'][xtrain_mean.index==1].values[0]\n",
    "dia_sk_mean=xtrain_mean['SkinThickness'][xtrain_mean.index==1].values[0]\n",
    "dia_ins_mean=xtrain_mean['Insulin'][xtrain_mean.index==1].values[0]\n",
    "dia_bmi_mean=xtrain_mean['BMI'][xtrain_mean.index==1].values[0]\n",
    "dia_dpf_mean=xtrain_mean['DiabetesPedigreeFunction'][xtrain_mean.index==1].values[0]\n",
    "dia_age_mean=xtrain_mean['Age'][xtrain_mean.index==1].values[0]\n"
   ]
  },
  {
   "cell_type": "code",
   "execution_count": null,
   "metadata": {},
   "outputs": [],
   "source": []
  },
  {
   "cell_type": "code",
   "execution_count": null,
   "metadata": {},
   "outputs": [],
   "source": []
  },
  {
   "cell_type": "code",
   "execution_count": null,
   "metadata": {},
   "outputs": [],
   "source": []
  },
  {
   "cell_type": "code",
   "execution_count": null,
   "metadata": {},
   "outputs": [],
   "source": []
  }
 ],
 "metadata": {
  "kernelspec": {
   "display_name": "Python 3",
   "language": "python",
   "name": "python3"
  },
  "language_info": {
   "codemirror_mode": {
    "name": "ipython",
    "version": 3
   },
   "file_extension": ".py",
   "mimetype": "text/x-python",
   "name": "python",
   "nbconvert_exporter": "python",
   "pygments_lexer": "ipython3",
   "version": "3.7.2"
  }
 },
 "nbformat": 4,
 "nbformat_minor": 2
}
